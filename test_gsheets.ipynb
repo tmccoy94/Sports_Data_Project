{
 "cells": [
  {
   "cell_type": "code",
   "execution_count": 3,
   "metadata": {},
   "outputs": [],
   "source": [
    "import pandas as pd\n",
    "import gspread\n",
    "from gspread_dataframe import set_with_dataframe\n",
    "from dbmanager import SqliteDBManager\n",
    "\n",
    "manager = SqliteDBManager(\"sportsdata.db\")\n"
   ]
  },
  {
   "cell_type": "code",
   "execution_count": 11,
   "metadata": {},
   "outputs": [],
   "source": [
    "def get_predicted_info_by_team():\n",
    "    return manager.dataframe_query(\n",
    "        \"\"\"\n",
    "    SELECT\n",
    "        HOME_TEAM.TEAM_NAME AS HOME_TEAM,\n",
    "        AWAY_TEAM.TEAM_NAME AS AWAY_TEAM,\n",
    "        GOO.PREDICTED_HOME_POINTS AS PREDICTED_HOME_SCORE,\n",
    "        GOO.PREDICTED_AWAY_POINTS AS PREDICTED_AWAY_SCORE,\n",
    "        GOO.SPREAD AS HOME_SPREAD,\n",
    "        GOO.TOTAL AS PREDICTED_TOTAL,\n",
    "        GAMES.GAME_DATE\n",
    "    FROM\n",
    "        GAME_OWN_ODDS AS GOO JOIN GAMES AS GAMES ON GOO.GAME_SERIAL = GAMES.SERIAL\n",
    "        JOIN TEAMS AS HOME_TEAM ON HOME_TEAM.SERIAL = GAMES.HOME_TEAM_SERIAL\n",
    "        JOIN TEAMS AS AWAY_TEAM ON AWAY_TEAM.SERIAL = GAMES.AWAY_TEAM_SERIAL\n",
    "    \"\"\"\n",
    "    )"
   ]
  },
  {
   "cell_type": "code",
   "execution_count": null,
   "metadata": {},
   "outputs": [],
   "source": [
    "# Load the service account credentials\n",
    "service_account_file = \"sports-data-project-google-service-acct.json\"\n",
    "gc = gspread.service_account(filename=service_account_file)\n"
   ]
  },
  {
   "cell_type": "code",
   "execution_count": 12,
   "metadata": {},
   "outputs": [
    {
     "name": "stdout",
     "output_type": "stream",
     "text": [
      "DataFrame successfully sent to Google Sheets!\n"
     ]
    }
   ],
   "source": [
    "# Open the Google Sheet by name or URL\n",
    "spreadsheet = gc.open_by_url(\n",
    "    \"https://docs.google.com/spreadsheets/d/1S5NngTTWlTXT0Rc4EoNIzKp5n2g_uIN11iPSJq1e-jU/edit?gid=0#gid=0\"\n",
    ")  # or gc.open_by_url(\"https://docs.google.com/spreadsheets/...\")\n",
    "\n",
    "# Select the worksheet where you want to send the data\n",
    "worksheet = spreadsheet.worksheet(\"Sheet1\")  # Use the name of your worksheet\n",
    "\n",
    "df = get_predicted_info_by_team()\n",
    "\n",
    "# Send the DataFrame to the worksheet\n",
    "set_with_dataframe(worksheet, df)\n",
    "\n",
    "print(\"DataFrame successfully sent to Google Sheets!\")"
   ]
  }
 ],
 "metadata": {
  "kernelspec": {
   "display_name": "venv",
   "language": "python",
   "name": "python3"
  },
  "language_info": {
   "codemirror_mode": {
    "name": "ipython",
    "version": 3
   },
   "file_extension": ".py",
   "mimetype": "text/x-python",
   "name": "python",
   "nbconvert_exporter": "python",
   "pygments_lexer": "ipython3",
   "version": "3.12.2"
  }
 },
 "nbformat": 4,
 "nbformat_minor": 2
}
